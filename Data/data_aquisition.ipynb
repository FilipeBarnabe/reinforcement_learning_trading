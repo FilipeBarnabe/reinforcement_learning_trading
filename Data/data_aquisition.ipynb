{
 "cells": [
  {
   "cell_type": "code",
   "execution_count": 1,
   "metadata": {},
   "outputs": [],
   "source": [
    "import yfinance as yf"
   ]
  },
  {
   "cell_type": "code",
   "execution_count": 17,
   "metadata": {},
   "outputs": [],
   "source": [
    "msft = yf.Ticker(\"^GSPC\")\n",
    "\n",
    "# get stock info\n",
    "msft.info\n",
    "\n",
    "# get historical market data\n",
    "hist = msft.history(period=\"max\"\n",
    ")"
   ]
  },
  {
   "cell_type": "code",
   "execution_count": 18,
   "metadata": {},
   "outputs": [
    {
     "data": {
      "text/html": [
       "<div>\n",
       "<style scoped>\n",
       "    .dataframe tbody tr th:only-of-type {\n",
       "        vertical-align: middle;\n",
       "    }\n",
       "\n",
       "    .dataframe tbody tr th {\n",
       "        vertical-align: top;\n",
       "    }\n",
       "\n",
       "    .dataframe thead th {\n",
       "        text-align: right;\n",
       "    }\n",
       "</style>\n",
       "<table border=\"1\" class=\"dataframe\">\n",
       "  <thead>\n",
       "    <tr style=\"text-align: right;\">\n",
       "      <th></th>\n",
       "      <th>Open</th>\n",
       "      <th>High</th>\n",
       "      <th>Low</th>\n",
       "      <th>Close</th>\n",
       "      <th>Volume</th>\n",
       "      <th>Dividends</th>\n",
       "      <th>Stock Splits</th>\n",
       "    </tr>\n",
       "    <tr>\n",
       "      <th>Date</th>\n",
       "      <th></th>\n",
       "      <th></th>\n",
       "      <th></th>\n",
       "      <th></th>\n",
       "      <th></th>\n",
       "      <th></th>\n",
       "      <th></th>\n",
       "    </tr>\n",
       "  </thead>\n",
       "  <tbody>\n",
       "    <tr>\n",
       "      <th>1950-01-03 00:00:00-05:00</th>\n",
       "      <td>16.660000</td>\n",
       "      <td>16.660000</td>\n",
       "      <td>16.660000</td>\n",
       "      <td>16.660000</td>\n",
       "      <td>1260000</td>\n",
       "      <td>0</td>\n",
       "      <td>0</td>\n",
       "    </tr>\n",
       "    <tr>\n",
       "      <th>1950-01-04 00:00:00-05:00</th>\n",
       "      <td>16.850000</td>\n",
       "      <td>16.850000</td>\n",
       "      <td>16.850000</td>\n",
       "      <td>16.850000</td>\n",
       "      <td>1890000</td>\n",
       "      <td>0</td>\n",
       "      <td>0</td>\n",
       "    </tr>\n",
       "    <tr>\n",
       "      <th>1950-01-05 00:00:00-05:00</th>\n",
       "      <td>16.930000</td>\n",
       "      <td>16.930000</td>\n",
       "      <td>16.930000</td>\n",
       "      <td>16.930000</td>\n",
       "      <td>2550000</td>\n",
       "      <td>0</td>\n",
       "      <td>0</td>\n",
       "    </tr>\n",
       "    <tr>\n",
       "      <th>1950-01-06 00:00:00-05:00</th>\n",
       "      <td>16.980000</td>\n",
       "      <td>16.980000</td>\n",
       "      <td>16.980000</td>\n",
       "      <td>16.980000</td>\n",
       "      <td>2010000</td>\n",
       "      <td>0</td>\n",
       "      <td>0</td>\n",
       "    </tr>\n",
       "    <tr>\n",
       "      <th>1950-01-09 00:00:00-05:00</th>\n",
       "      <td>17.080000</td>\n",
       "      <td>17.080000</td>\n",
       "      <td>17.080000</td>\n",
       "      <td>17.080000</td>\n",
       "      <td>2520000</td>\n",
       "      <td>0</td>\n",
       "      <td>0</td>\n",
       "    </tr>\n",
       "    <tr>\n",
       "      <th>...</th>\n",
       "      <td>...</td>\n",
       "      <td>...</td>\n",
       "      <td>...</td>\n",
       "      <td>...</td>\n",
       "      <td>...</td>\n",
       "      <td>...</td>\n",
       "      <td>...</td>\n",
       "    </tr>\n",
       "    <tr>\n",
       "      <th>2022-11-03 00:00:00-04:00</th>\n",
       "      <td>3733.250000</td>\n",
       "      <td>3750.590088</td>\n",
       "      <td>3698.149902</td>\n",
       "      <td>3719.889893</td>\n",
       "      <td>4625290000</td>\n",
       "      <td>0</td>\n",
       "      <td>0</td>\n",
       "    </tr>\n",
       "    <tr>\n",
       "      <th>2022-11-04 00:00:00-04:00</th>\n",
       "      <td>3766.979980</td>\n",
       "      <td>3796.340088</td>\n",
       "      <td>3708.840088</td>\n",
       "      <td>3770.550049</td>\n",
       "      <td>0</td>\n",
       "      <td>0</td>\n",
       "      <td>0</td>\n",
       "    </tr>\n",
       "    <tr>\n",
       "      <th>2022-11-07 00:00:00-05:00</th>\n",
       "      <td>3780.709961</td>\n",
       "      <td>3813.949951</td>\n",
       "      <td>3764.699951</td>\n",
       "      <td>3806.800049</td>\n",
       "      <td>4341620000</td>\n",
       "      <td>0</td>\n",
       "      <td>0</td>\n",
       "    </tr>\n",
       "    <tr>\n",
       "      <th>2022-11-08 00:00:00-05:00</th>\n",
       "      <td>3817.020020</td>\n",
       "      <td>3859.399902</td>\n",
       "      <td>3786.280029</td>\n",
       "      <td>3828.110107</td>\n",
       "      <td>4607640000</td>\n",
       "      <td>0</td>\n",
       "      <td>0</td>\n",
       "    </tr>\n",
       "    <tr>\n",
       "      <th>2022-11-09 00:00:00-05:00</th>\n",
       "      <td>3810.939941</td>\n",
       "      <td>3818.199951</td>\n",
       "      <td>3744.219971</td>\n",
       "      <td>3748.570068</td>\n",
       "      <td>4645010000</td>\n",
       "      <td>0</td>\n",
       "      <td>0</td>\n",
       "    </tr>\n",
       "  </tbody>\n",
       "</table>\n",
       "<p>18334 rows × 7 columns</p>\n",
       "</div>"
      ],
      "text/plain": [
       "                                  Open         High          Low        Close  \\\n",
       "Date                                                                            \n",
       "1950-01-03 00:00:00-05:00    16.660000    16.660000    16.660000    16.660000   \n",
       "1950-01-04 00:00:00-05:00    16.850000    16.850000    16.850000    16.850000   \n",
       "1950-01-05 00:00:00-05:00    16.930000    16.930000    16.930000    16.930000   \n",
       "1950-01-06 00:00:00-05:00    16.980000    16.980000    16.980000    16.980000   \n",
       "1950-01-09 00:00:00-05:00    17.080000    17.080000    17.080000    17.080000   \n",
       "...                                ...          ...          ...          ...   \n",
       "2022-11-03 00:00:00-04:00  3733.250000  3750.590088  3698.149902  3719.889893   \n",
       "2022-11-04 00:00:00-04:00  3766.979980  3796.340088  3708.840088  3770.550049   \n",
       "2022-11-07 00:00:00-05:00  3780.709961  3813.949951  3764.699951  3806.800049   \n",
       "2022-11-08 00:00:00-05:00  3817.020020  3859.399902  3786.280029  3828.110107   \n",
       "2022-11-09 00:00:00-05:00  3810.939941  3818.199951  3744.219971  3748.570068   \n",
       "\n",
       "                               Volume  Dividends  Stock Splits  \n",
       "Date                                                            \n",
       "1950-01-03 00:00:00-05:00     1260000          0             0  \n",
       "1950-01-04 00:00:00-05:00     1890000          0             0  \n",
       "1950-01-05 00:00:00-05:00     2550000          0             0  \n",
       "1950-01-06 00:00:00-05:00     2010000          0             0  \n",
       "1950-01-09 00:00:00-05:00     2520000          0             0  \n",
       "...                               ...        ...           ...  \n",
       "2022-11-03 00:00:00-04:00  4625290000          0             0  \n",
       "2022-11-04 00:00:00-04:00           0          0             0  \n",
       "2022-11-07 00:00:00-05:00  4341620000          0             0  \n",
       "2022-11-08 00:00:00-05:00  4607640000          0             0  \n",
       "2022-11-09 00:00:00-05:00  4645010000          0             0  \n",
       "\n",
       "[18334 rows x 7 columns]"
      ]
     },
     "execution_count": 18,
     "metadata": {},
     "output_type": "execute_result"
    }
   ],
   "source": [
    "hist"
   ]
  },
  {
   "cell_type": "code",
   "execution_count": 21,
   "metadata": {},
   "outputs": [
    {
     "data": {
      "text/plain": [
       "Index(['Open', 'High', 'Low', 'Close', 'Volume', 'Dividends', 'Stock Splits'], dtype='object')"
      ]
     },
     "execution_count": 21,
     "metadata": {},
     "output_type": "execute_result"
    }
   ],
   "source": []
  },
  {
   "cell_type": "code",
   "execution_count": 23,
   "metadata": {},
   "outputs": [
    {
     "data": {
      "text/plain": [
       "<AxesSubplot: xlabel='Date'>"
      ]
     },
     "execution_count": 23,
     "metadata": {},
     "output_type": "execute_result"
    },
    {
     "data": {
      "image/png": "[encoded data removed]",
      "text/plain": [
       "<Figure size 640x480 with 1 Axes>"
      ]
     },
     "metadata": {},
     "output_type": "display_data"
    }
   ],
   "source": [
    "hist.plot(y=\"Open\")"
   ]
  },
  {
   "cell_type": "code",
   "execution_count": null,
   "metadata": {},
   "outputs": [],
   "source": []
  }
 ],
 "metadata": {
  "kernelspec": {
   "display_name": "Python 3.10.6 ('tasi')",
   "language": "python",
   "name": "python3"
  },
  "language_info": {
   "codemirror_mode": {
    "name": "ipython",
    "version": 3
   },
   "file_extension": ".py",
   "mimetype": "text/x-python",
   "name": "python",
   "nbconvert_exporter": "python",
   "pygments_lexer": "ipython3",
   "version": "3.10.6"
  },
  "orig_nbformat": 4,
  "vscode": {
   "interpreter": {
    "hash": "517af881a55e1c6c2a5b8353979d03966e66aec58413ae2f727ff5eb28ad550f"
   }
  }
 },
 "nbformat": 4,
 "nbformat_minor": 2
}
