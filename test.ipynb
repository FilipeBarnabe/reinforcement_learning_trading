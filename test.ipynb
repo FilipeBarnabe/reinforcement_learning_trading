{
 "cells": [
  {
   "cell_type": "code",
   "execution_count": 2,
   "metadata": {},
   "outputs": [
    {
     "ename": "ImportError",
     "evalue": "Traceback (most recent call last):\n  File \"/opt/miniconda3/envs/tasi/lib/python3.10/site-packages/tensorflow/python/__init__.py\", line 49, in <module>\n    from tensorflow.python import pywrap_tensorflow\n  File \"/opt/miniconda3/envs/tasi/lib/python3.10/site-packages/tensorflow/python/pywrap_tensorflow.py\", line 28, in <module>\n    _pywrap_tensorflow = swig_import_helper()\n  File \"/opt/miniconda3/envs/tasi/lib/python3.10/site-packages/tensorflow/python/pywrap_tensorflow.py\", line 24, in swig_import_helper\n    _mod = imp.load_module('_pywrap_tensorflow', fp, pathname, description)\n  File \"/opt/miniconda3/envs/tasi/lib/python3.10/imp.py\", line 243, in load_module\n    return load_dynamic(name, filename, file)\n  File \"/opt/miniconda3/envs/tasi/lib/python3.10/imp.py\", line 343, in load_dynamic\n    return _load(spec)\nImportError: dlopen(/opt/miniconda3/envs/tasi/lib/python3.10/site-packages/tensorflow/python/_pywrap_tensorflow.so, 0x000A): tried: '/opt/miniconda3/envs/tasi/lib/python3.10/site-packages/tensorflow/python/_pywrap_tensorflow.so' (mach-o file, but is an incompatible architecture (have 'x86_64', need 'arm64')), '/System/Volumes/Preboot/Cryptexes/OS/opt/miniconda3/envs/tasi/lib/python3.10/site-packages/tensorflow/python/_pywrap_tensorflow.so' (no such file), '/opt/miniconda3/envs/tasi/lib/python3.10/site-packages/tensorflow/python/_pywrap_tensorflow.so' (mach-o file, but is an incompatible architecture (have 'x86_64', need 'arm64'))\n\n\nError importing tensorflow.  Unless you are using bazel,\nyou should not try to import tensorflow from its source directory;\nplease exit the tensorflow source tree, and relaunch your python interpreter\nfrom there.",
     "output_type": "error",
     "traceback": [
      "\u001b[0;31m---------------------------------------------------------------------------\u001b[0m",
      "\u001b[0;31mImportError\u001b[0m                               Traceback (most recent call last)",
      "File \u001b[0;32m/opt/miniconda3/envs/tasi/lib/python3.10/site-packages/tensorflow/python/__init__.py:49\u001b[0m\n\u001b[1;32m     48\u001b[0m sys\u001b[39m.\u001b[39msetdlopenflags(_default_dlopen_flags \u001b[39m|\u001b[39m ctypes\u001b[39m.\u001b[39mRTLD_GLOBAL)\n\u001b[0;32m---> 49\u001b[0m \u001b[39mfrom\u001b[39;00m \u001b[39mtensorflow\u001b[39;00m\u001b[39m.\u001b[39;00m\u001b[39mpython\u001b[39;00m \u001b[39mimport\u001b[39;00m pywrap_tensorflow\n\u001b[1;32m     50\u001b[0m sys\u001b[39m.\u001b[39msetdlopenflags(_default_dlopen_flags)\n",
      "File \u001b[0;32m/opt/miniconda3/envs/tasi/lib/python3.10/site-packages/tensorflow/python/pywrap_tensorflow.py:28\u001b[0m\n\u001b[1;32m     27\u001b[0m         \u001b[39mreturn\u001b[39;00m _mod\n\u001b[0;32m---> 28\u001b[0m _pywrap_tensorflow \u001b[39m=\u001b[39m swig_import_helper()\n\u001b[1;32m     29\u001b[0m \u001b[39mdel\u001b[39;00m swig_import_helper\n",
      "File \u001b[0;32m/opt/miniconda3/envs/tasi/lib/python3.10/site-packages/tensorflow/python/pywrap_tensorflow.py:24\u001b[0m, in \u001b[0;36mswig_import_helper\u001b[0;34m()\u001b[0m\n\u001b[1;32m     23\u001b[0m \u001b[39mtry\u001b[39;00m:\n\u001b[0;32m---> 24\u001b[0m     _mod \u001b[39m=\u001b[39m imp\u001b[39m.\u001b[39;49mload_module(\u001b[39m'\u001b[39;49m\u001b[39m_pywrap_tensorflow\u001b[39;49m\u001b[39m'\u001b[39;49m, fp, pathname, description)\n\u001b[1;32m     25\u001b[0m \u001b[39mfinally\u001b[39;00m:\n",
      "File \u001b[0;32m/opt/miniconda3/envs/tasi/lib/python3.10/imp.py:243\u001b[0m, in \u001b[0;36mload_module\u001b[0;34m(name, file, filename, details)\u001b[0m\n\u001b[1;32m    242\u001b[0m     \u001b[39melse\u001b[39;00m:\n\u001b[0;32m--> 243\u001b[0m         \u001b[39mreturn\u001b[39;00m load_dynamic(name, filename, file)\n\u001b[1;32m    244\u001b[0m \u001b[39melif\u001b[39;00m type_ \u001b[39m==\u001b[39m PKG_DIRECTORY:\n",
      "File \u001b[0;32m/opt/miniconda3/envs/tasi/lib/python3.10/imp.py:343\u001b[0m, in \u001b[0;36mload_dynamic\u001b[0;34m(name, path, file)\u001b[0m\n\u001b[1;32m    341\u001b[0m spec \u001b[39m=\u001b[39m importlib\u001b[39m.\u001b[39mmachinery\u001b[39m.\u001b[39mModuleSpec(\n\u001b[1;32m    342\u001b[0m     name\u001b[39m=\u001b[39mname, loader\u001b[39m=\u001b[39mloader, origin\u001b[39m=\u001b[39mpath)\n\u001b[0;32m--> 343\u001b[0m \u001b[39mreturn\u001b[39;00m _load(spec)\n",
      "\u001b[0;31mImportError\u001b[0m: dlopen(/opt/miniconda3/envs/tasi/lib/python3.10/site-packages/tensorflow/python/_pywrap_tensorflow.so, 0x000A): tried: '/opt/miniconda3/envs/tasi/lib/python3.10/site-packages/tensorflow/python/_pywrap_tensorflow.so' (mach-o file, but is an incompatible architecture (have 'x86_64', need 'arm64')), '/System/Volumes/Preboot/Cryptexes/OS/opt/miniconda3/envs/tasi/lib/python3.10/site-packages/tensorflow/python/_pywrap_tensorflow.so' (no such file), '/opt/miniconda3/envs/tasi/lib/python3.10/site-packages/tensorflow/python/_pywrap_tensorflow.so' (mach-o file, but is an incompatible architecture (have 'x86_64', need 'arm64'))",
      "\nDuring handling of the above exception, another exception occurred:\n",
      "\u001b[0;31mImportError\u001b[0m                               Traceback (most recent call last)",
      "Cell \u001b[0;32mIn [2], line 6\u001b[0m\n\u001b[1;32m      3\u001b[0m \u001b[39mimport\u001b[39;00m \u001b[39mgym_anytrading\u001b[39;00m\n\u001b[1;32m      5\u001b[0m \u001b[39m# Stable Baselines\u001b[39;00m\n\u001b[0;32m----> 6\u001b[0m \u001b[39mfrom\u001b[39;00m \u001b[39mstable_baselines\u001b[39;00m\u001b[39m.\u001b[39;00m\u001b[39mcommon\u001b[39;00m\u001b[39m.\u001b[39;00m\u001b[39mvec_env\u001b[39;00m \u001b[39mimport\u001b[39;00m DummyVecVenv\n\u001b[1;32m      7\u001b[0m \u001b[39mfrom\u001b[39;00m \u001b[39mstable_baselines\u001b[39;00m \u001b[39mimport\u001b[39;00m A2C\n\u001b[1;32m      9\u001b[0m \u001b[39mimport\u001b[39;00m \u001b[39mnumpy\u001b[39;00m \u001b[39mas\u001b[39;00m \u001b[39mnp\u001b[39;00m\n",
      "File \u001b[0;32m/opt/miniconda3/envs/tasi/lib/python3.10/site-packages/stable_baselines/__init__.py:4\u001b[0m\n\u001b[1;32m      1\u001b[0m \u001b[39mimport\u001b[39;00m \u001b[39mos\u001b[39;00m\n\u001b[1;32m      2\u001b[0m \u001b[39mimport\u001b[39;00m \u001b[39mwarnings\u001b[39;00m\n\u001b[0;32m----> 4\u001b[0m \u001b[39mfrom\u001b[39;00m \u001b[39mstable_baselines\u001b[39;00m\u001b[39m.\u001b[39;00m\u001b[39ma2c\u001b[39;00m \u001b[39mimport\u001b[39;00m A2C\n\u001b[1;32m      5\u001b[0m \u001b[39mfrom\u001b[39;00m \u001b[39mstable_baselines\u001b[39;00m\u001b[39m.\u001b[39;00m\u001b[39macer\u001b[39;00m \u001b[39mimport\u001b[39;00m ACER\n\u001b[1;32m      6\u001b[0m \u001b[39mfrom\u001b[39;00m \u001b[39mstable_baselines\u001b[39;00m\u001b[39m.\u001b[39;00m\u001b[39macktr\u001b[39;00m \u001b[39mimport\u001b[39;00m ACKTR\n",
      "File \u001b[0;32m/opt/miniconda3/envs/tasi/lib/python3.10/site-packages/stable_baselines/a2c/__init__.py:1\u001b[0m\n\u001b[0;32m----> 1\u001b[0m \u001b[39mfrom\u001b[39;00m \u001b[39mstable_baselines\u001b[39;00m\u001b[39m.\u001b[39;00m\u001b[39ma2c\u001b[39;00m\u001b[39m.\u001b[39;00m\u001b[39ma2c\u001b[39;00m \u001b[39mimport\u001b[39;00m A2C\n",
      "File \u001b[0;32m/opt/miniconda3/envs/tasi/lib/python3.10/site-packages/stable_baselines/a2c/a2c.py:5\u001b[0m\n\u001b[1;32m      3\u001b[0m \u001b[39mimport\u001b[39;00m \u001b[39mgym\u001b[39;00m\n\u001b[1;32m      4\u001b[0m \u001b[39mimport\u001b[39;00m \u001b[39mnumpy\u001b[39;00m \u001b[39mas\u001b[39;00m \u001b[39mnp\u001b[39;00m\n\u001b[0;32m----> 5\u001b[0m \u001b[39mimport\u001b[39;00m \u001b[39mtensorflow\u001b[39;00m \u001b[39mas\u001b[39;00m \u001b[39mtf\u001b[39;00m\n\u001b[1;32m      7\u001b[0m \u001b[39mfrom\u001b[39;00m \u001b[39mstable_baselines\u001b[39;00m \u001b[39mimport\u001b[39;00m logger\n\u001b[1;32m      8\u001b[0m \u001b[39mfrom\u001b[39;00m \u001b[39mstable_baselines\u001b[39;00m\u001b[39m.\u001b[39;00m\u001b[39mcommon\u001b[39;00m \u001b[39mimport\u001b[39;00m explained_variance, tf_util, ActorCriticRLModel, SetVerbosity, TensorboardWriter\n",
      "File \u001b[0;32m/opt/miniconda3/envs/tasi/lib/python3.10/site-packages/tensorflow/__init__.py:24\u001b[0m\n\u001b[1;32m     21\u001b[0m \u001b[39mfrom\u001b[39;00m \u001b[39m__future__\u001b[39;00m \u001b[39mimport\u001b[39;00m print_function\n\u001b[1;32m     23\u001b[0m \u001b[39m# pylint: disable=wildcard-import\u001b[39;00m\n\u001b[0;32m---> 24\u001b[0m \u001b[39mfrom\u001b[39;00m \u001b[39mtensorflow\u001b[39;00m\u001b[39m.\u001b[39;00m\u001b[39mpython\u001b[39;00m \u001b[39mimport\u001b[39;00m \u001b[39m*\u001b[39m\n\u001b[1;32m     25\u001b[0m \u001b[39m# pylint: enable=wildcard-import\u001b[39;00m\n\u001b[1;32m     26\u001b[0m \n\u001b[1;32m     27\u001b[0m \u001b[39m# Lazily import the `tf.contrib` module. This avoids loading all of the\u001b[39;00m\n\u001b[1;32m     28\u001b[0m \u001b[39m# dependencies of `tf.contrib` at `import tensorflow` time.\u001b[39;00m\n\u001b[1;32m     29\u001b[0m \u001b[39mclass\u001b[39;00m \u001b[39m_LazyContribLoader\u001b[39;00m(\u001b[39mobject\u001b[39m):\n",
      "File \u001b[0;32m/opt/miniconda3/envs/tasi/lib/python3.10/site-packages/tensorflow/python/__init__.py:60\u001b[0m\n\u001b[1;32m     55\u001b[0m \u001b[39mexcept\u001b[39;00m \u001b[39mImportError\u001b[39;00m:\n\u001b[1;32m     56\u001b[0m   msg \u001b[39m=\u001b[39m \u001b[39m\"\"\"\u001b[39m\u001b[39m%s\u001b[39;00m\u001b[39m\\n\u001b[39;00m\u001b[39m\\n\u001b[39;00m\u001b[39mError importing tensorflow.  Unless you are using bazel,\u001b[39m\n\u001b[1;32m     57\u001b[0m \u001b[39myou should not try to import tensorflow from its source directory;\u001b[39m\n\u001b[1;32m     58\u001b[0m \u001b[39mplease exit the tensorflow source tree, and relaunch your python interpreter\u001b[39m\n\u001b[1;32m     59\u001b[0m \u001b[39mfrom there.\u001b[39m\u001b[39m\"\"\"\u001b[39m \u001b[39m%\u001b[39m traceback\u001b[39m.\u001b[39mformat_exc()\n\u001b[0;32m---> 60\u001b[0m   \u001b[39mraise\u001b[39;00m \u001b[39mImportError\u001b[39;00m(msg)\n\u001b[1;32m     62\u001b[0m \u001b[39m# Protocol buffers\u001b[39;00m\n\u001b[1;32m     63\u001b[0m \u001b[39mfrom\u001b[39;00m \u001b[39mtensorflow\u001b[39;00m\u001b[39m.\u001b[39;00m\u001b[39mcore\u001b[39;00m\u001b[39m.\u001b[39;00m\u001b[39mframework\u001b[39;00m\u001b[39m.\u001b[39;00m\u001b[39mgraph_pb2\u001b[39;00m \u001b[39mimport\u001b[39;00m \u001b[39m*\u001b[39m\n",
      "\u001b[0;31mImportError\u001b[0m: Traceback (most recent call last):\n  File \"/opt/miniconda3/envs/tasi/lib/python3.10/site-packages/tensorflow/python/__init__.py\", line 49, in <module>\n    from tensorflow.python import pywrap_tensorflow\n  File \"/opt/miniconda3/envs/tasi/lib/python3.10/site-packages/tensorflow/python/pywrap_tensorflow.py\", line 28, in <module>\n    _pywrap_tensorflow = swig_import_helper()\n  File \"/opt/miniconda3/envs/tasi/lib/python3.10/site-packages/tensorflow/python/pywrap_tensorflow.py\", line 24, in swig_import_helper\n    _mod = imp.load_module('_pywrap_tensorflow', fp, pathname, description)\n  File \"/opt/miniconda3/envs/tasi/lib/python3.10/imp.py\", line 243, in load_module\n    return load_dynamic(name, filename, file)\n  File \"/opt/miniconda3/envs/tasi/lib/python3.10/imp.py\", line 343, in load_dynamic\n    return _load(spec)\nImportError: dlopen(/opt/miniconda3/envs/tasi/lib/python3.10/site-packages/tensorflow/python/_pywrap_tensorflow.so, 0x000A): tried: '/opt/miniconda3/envs/tasi/lib/python3.10/site-packages/tensorflow/python/_pywrap_tensorflow.so' (mach-o file, but is an incompatible architecture (have 'x86_64', need 'arm64')), '/System/Volumes/Preboot/Cryptexes/OS/opt/miniconda3/envs/tasi/lib/python3.10/site-packages/tensorflow/python/_pywrap_tensorflow.so' (no such file), '/opt/miniconda3/envs/tasi/lib/python3.10/site-packages/tensorflow/python/_pywrap_tensorflow.so' (mach-o file, but is an incompatible architecture (have 'x86_64', need 'arm64'))\n\n\nError importing tensorflow.  Unless you are using bazel,\nyou should not try to import tensorflow from its source directory;\nplease exit the tensorflow source tree, and relaunch your python interpreter\nfrom there."
     ]
    }
   ],
   "source": [
    "# Gym\n",
    "import gym\n",
    "import gym_anytrading\n",
    "\n",
    "# Stable Baselines\n",
    "from stable_baselines.common.vec_env import DummyVecVenv\n",
    "from stable_baselines import A2C\n",
    "\n",
    "import numpy as np\n",
    "import pandas as pd\n",
    "from matplotlib import pyplot as plt"
   ]
  },
  {
   "cell_type": "code",
   "execution_count": null,
   "metadata": {},
   "outputs": [],
   "source": []
  }
 ],
 "metadata": {
  "kernelspec": {
   "display_name": "Python 3.10.6 ('tasi')",
   "language": "python",
   "name": "python3"
  },
  "language_info": {
   "codemirror_mode": {
    "name": "ipython",
    "version": 3
   },
   "file_extension": ".py",
   "mimetype": "text/x-python",
   "name": "python",
   "nbconvert_exporter": "python",
   "pygments_lexer": "ipython3",
   "version": "3.10.6"
  },
  "orig_nbformat": 4,
  "vscode": {
   "interpreter": {
    "hash": "517af881a55e1c6c2a5b8353979d03966e66aec58413ae2f727ff5eb28ad550f"
   }
  }
 },
 "nbformat": 4,
 "nbformat_minor": 2
}
